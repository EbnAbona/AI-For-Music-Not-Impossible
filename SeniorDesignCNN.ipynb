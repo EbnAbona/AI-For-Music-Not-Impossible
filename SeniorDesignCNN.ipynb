{
  "nbformat": 4,
  "nbformat_minor": 0,
  "metadata": {
    "colab": {
      "provenance": [],
      "authorship_tag": "ABX9TyM+6VYDtu0oUiNyRTwqqn5R",
      "include_colab_link": true
    },
    "kernelspec": {
      "name": "python3",
      "display_name": "Python 3"
    },
    "language_info": {
      "name": "python"
    },
    "accelerator": "GPU",
    "gpuClass": "standard"
  },
  "cells": [
    {
      "cell_type": "markdown",
      "metadata": {
        "id": "view-in-github",
        "colab_type": "text"
      },
      "source": [
        "<a href=\"https://colab.research.google.com/github/EbnAbona/AI-For-Music-Not-Impossible/blob/Change-script-to-train-on-MIDI-tracks/SeniorDesignCNN.ipynb\" target=\"_parent\"><img src=\"https://colab.research.google.com/assets/colab-badge.svg\" alt=\"Open In Colab\"/></a>"
      ]
    },
    {
      "cell_type": "code",
      "source": [
        "from google.colab import drive\n",
        "drive.mount('/content/drive')"
      ],
      "metadata": {
        "colab": {
          "base_uri": "https://localhost:8080/"
        },
        "id": "vJTtwFhsNxqV",
        "outputId": "32bf87c0-3bda-4a1a-893c-31a63cc93a97"
      },
      "execution_count": 1,
      "outputs": [
        {
          "output_type": "stream",
          "name": "stdout",
          "text": [
            "Mounted at /content/drive\n"
          ]
        }
      ]
    },
    {
      "cell_type": "code",
      "execution_count": 2,
      "metadata": {
        "id": "jnhrwHytNolk"
      },
      "outputs": [],
      "source": [
        "import torch\n",
        "import torch.nn as nn\n",
        "import torch.nn.functional as F\n",
        "import torchvision\n",
        "import torchvision.transforms as transforms\n",
        "import matplotlib.pyplot as plt\n",
        "import numpy as np\n",
        "from torch.utils.data import DataLoader, Dataset\n",
        "import time\n",
        "from fastprogress import master_bar, progress_bar\n",
        "from torchvision.models import resnet18\n",
        "from datetime import timedelta"
      ]
    },
    {
      "cell_type": "code",
      "source": [
        "class MyDataSet(Dataset):\n",
        "  def __init__(self, X, y, scale_data=True):\n",
        "    if not torch.is_tensor(X) and not torch.is_tensor(y):\n",
        "      # Apply scaling if necessary\n",
        "      self.X = torch.from_numpy(X).float()\n",
        "      self.y = torch.from_numpy(y).float()\n",
        "    \n",
        "  def __len__(self):\n",
        "    return len(self.X) - 40\n",
        "\n",
        "  def __getitem__(self, i):\n",
        "    return np.expand_dims(self.X[i: i+40,:], 0), self.y[i+40]"
      ],
      "metadata": {
        "id": "021sNhr_N0xS"
      },
      "execution_count": 3,
      "outputs": []
    },
    {
      "cell_type": "code",
      "source": [
        "class ConvNet(nn.Module):\n",
        "    def __init__(self):\n",
        "        super().__init__()\n",
        "        self.features = nn.Sequential(\n",
        "            nn.Conv2d(1, 64, 3, 1, 1),\n",
        "            nn.BatchNorm2d(64),\n",
        "            nn.Dropout(0.25),\n",
        "            nn.ReLU(inplace=True),\n",
        "            nn.MaxPool2d(2, 2),\n",
        "            nn.Conv2d(64, 128, 3, 1, 1),\n",
        "            nn.BatchNorm2d(128),\n",
        "            nn.Dropout(0.25),\n",
        "            nn.ReLU(inplace=True),\n",
        "            nn.MaxPool2d(2, 2),\n",
        "            nn.Conv2d(128, 256, 3, 1, 1),\n",
        "            nn.BatchNorm2d(256),\n",
        "            nn.Dropout(0.5),\n",
        "            nn.ReLU(inplace=True),\n",
        "            nn.Conv2d(256, 256, 3, 1, 1),\n",
        "            nn.ReLU(inplace=True),\n",
        "            nn.MaxPool2d(2, 2),\n",
        "            nn.Conv2d(256, 512, 3, 1, 1),\n",
        "            nn.Dropout(0.5),\n",
        "            nn.BatchNorm2d(512),\n",
        "            nn.ReLU(inplace=True),\n",
        "            nn.Conv2d(512, 512, 3, 1, 1),\n",
        "            nn.Dropout(0.25),\n",
        "            nn.ReLU(inplace=True),\n",
        "            nn.MaxPool2d(2, 2))\n",
        "        self.embeddings = nn.Sequential(\n",
        "            nn.Linear(65536, 32),\n",
        "            nn.ReLU(inplace=True),\n",
        "            nn.Linear(32, 4096),\n",
        "            nn.ReLU(inplace=True),\n",
        "            nn.Linear(4096, 128),\n",
        "            nn.Linear(128, 48),\n",
        "            #nn.ReLU(inplace=True)\n",
        "        )\n",
        "\n",
        "    def forward(self, x):\n",
        "        x = self.features(x).permute(0, 2, 3, 1).contiguous()\n",
        "        x = x.view(x.size(0), -1)\n",
        "        x = torch.flatten(x, 1)\n",
        "        x = self.embeddings(x)\n",
        "        return x"
      ],
      "metadata": {
        "id": "MnvuLgXj0SIk"
      },
      "execution_count": 4,
      "outputs": []
    },
    {
      "cell_type": "code",
      "source": [
        "def getSpectrograms2():\n",
        "  allMidi_X = np.load('/content/drive/MyDrive/Senior_Design/MIDI/final_input.npy')\n",
        "  return allMidi_X"
      ],
      "metadata": {
        "id": "19zEURXQ6iuF"
      },
      "execution_count": 5,
      "outputs": []
    },
    {
      "cell_type": "code",
      "source": [
        "def plotData(data, original, title):\n",
        "  plt.figure().clear()\n",
        "  plt.close()\n",
        "  plt.cla()\n",
        "  plt.clf()\n",
        "  plt.plot(data.cpu().detach().numpy(), label = \"Predicted\")\n",
        "  plt.title(f'{title} - Predicted')\n",
        "  plt.show()\n",
        "  plt.plot(original.cpu().detach().numpy(), label = \"Original\")\n",
        "  plt.title(f'{title} - Original')\n",
        "  plt.show()"
      ],
      "metadata": {
        "id": "BrQ7LnWW0Uca"
      },
      "execution_count": 6,
      "outputs": []
    },
    {
      "cell_type": "code",
      "source": [
        "def getSets2(allMidi_X):\n",
        "  allMidi_Y = np.load('/content/drive/MyDrive/Senior_Design/MIDI/final_output.npy').T\n",
        "  newMidi_X = np.log10(np.abs(allMidi_X)+1e-15).T\n",
        "  return newMidi_X, allMidi_Y"
      ],
      "metadata": {
        "id": "5tOTcdnG7Eav"
      },
      "execution_count": 7,
      "outputs": []
    },
    {
      "cell_type": "code",
      "source": [
        "def buildDatasets(train_X, train_Y, test_X, test_Y):\n",
        "  dataset_train = MyDataSet(train_X,train_Y)\n",
        "  dataset_test = MyDataSet(test_X,test_Y)\n",
        "  return dataset_train, dataset_test"
      ],
      "metadata": {
        "id": "n1kpJPVT0Xc0"
      },
      "execution_count": 8,
      "outputs": []
    },
    {
      "cell_type": "code",
      "source": [
        "def saveCheckpoint(EPOCH, model_state_dict, optimizer_state_dict, LOSS):\n",
        "  torch.save({\n",
        "            'epoch': EPOCH,\n",
        "            'model_state_dict': model_state_dict,\n",
        "            'optimizer_state_dict': optimizer_state_dict,\n",
        "            'loss': LOSS,\n",
        "            }, '/content/drive/MyDrive/Senior_Design/latestCheckpoint.pt')"
      ],
      "metadata": {
        "id": "jG5gFHrC0ZHL"
      },
      "execution_count": 9,
      "outputs": []
    },
    {
      "cell_type": "code",
      "source": [
        "def trainModel(dataset_train, dataset_val, num_epochs=40, batch_size=40, loadCheckPoint=False, saveModel=True, saveCheckpoints=True, plotResults=True, pretrained=False):\n",
        "  lr = 1e-4\n",
        "  patience=35\n",
        "\n",
        "  train_loader = DataLoader(dataset_train, batch_size=batch_size, shuffle=True)\n",
        "  val_loader = DataLoader(dataset_val, batch_size=batch_size, shuffle=True,)\n",
        "  model = ConvNet().cuda()\n",
        "  if pretrained==True:\n",
        "    model = resnet18(pretrained=True).cuda()\n",
        "    model.conv1=nn.Conv2d(1, model.conv1.out_channels, \n",
        "                          kernel_size=model.conv1.kernel_size[0], \n",
        "                          stride=model.conv1.stride[0], \n",
        "                          padding=model.conv1.padding[0]).cuda()\n",
        "    num_ftrs = model.fc.in_features\n",
        "    model.fc = nn.Linear(num_ftrs, 48).cuda()\n",
        "  loss_function = nn.L1Loss().cuda()\n",
        "  optimizer = torch.optim.Adam(model.parameters(), lr=lr)\n",
        "\n",
        "  scheduler = torch.optim.lr_scheduler.ReduceLROnPlateau(optimizer,\n",
        "                                               mode='min',\n",
        "                                               factor=0.5,\n",
        "                                               patience=35,\n",
        "                                               verbose=True)\n",
        "\n",
        "  best_loss = 0.0\n",
        "  last_loss = 0.0\n",
        "  val_loss = 0.0\n",
        "  k_patience = 0\n",
        "  best_val = np.Inf\n",
        "  final_start_time = time.time()\n",
        "  \n",
        "  if loadCheckPoint == True:\n",
        "    checkpoint = torch.load('/content/drive/MyDrive/Senior_Design/latestCheckpoint.pt')\n",
        "    model.load_state_dict(checkpoint['model_state_dict'])\n",
        "    optimizer.load_state_dict(checkpoint['optimizer_state_dict'])\n",
        "    epoch = checkpoint['epoch']\n",
        "    last_loss = checkpoint['loss']\n",
        "\n",
        "  # Run the training loop\n",
        "  mb = master_bar(range(num_epochs))\n",
        "  for epoch in mb:\n",
        "    start_time = time.time()\n",
        "\n",
        "    # Set current loss value\n",
        "    current_loss = 0.0\n",
        "    i = 0\n",
        "    # Iterate over the DataLoader for training data\n",
        "    for data in progress_bar(train_loader, parent=mb):\n",
        "      # Get and prepare inputs\n",
        "      inputs, targets = data\n",
        "      inputs, targets = inputs.float(), targets.float()\n",
        "      \n",
        "      # Zero the gradients\n",
        "      optimizer.zero_grad()\n",
        "      \n",
        "      # Perform forward pass\n",
        "      outputs = model(inputs.cuda())\n",
        "      \n",
        "      # Compute loss\n",
        "      loss = loss_function(outputs, targets.cuda())\n",
        "      \n",
        "      # Perform backward pass\n",
        "      loss.backward()\n",
        "      \n",
        "      # Perform optimization\n",
        "      optimizer.step()\n",
        "      \n",
        "      # Print statistics\n",
        "      current_loss += loss.item()\n",
        "      last_loss = current_loss / len(train_loader)\n",
        "      if i % 100 == 0:\n",
        "        elapsed = time.time() - start_time\n",
        "        mb.write(f'Epoch {epoch+1} - Loss after mini-batch {(i + 1):5d}: {(current_loss / len(train_loader)):.8f} - Time: {elapsed:.0f}s')\n",
        "        current_loss = 0.0\n",
        "      i = i + 1\n",
        "\n",
        "    if epoch % 5 == 0 and plotResults == True:\n",
        "      plotData(outputs, targets, f\"Epoch {epoch+1} - Training\")\n",
        "\n",
        "    i = 0\n",
        "    # Set current loss value\n",
        "    current_loss = 0.0\n",
        "    for data in progress_bar(val_loader, parent=mb):\n",
        "      # Get and prepare inputs\n",
        "      inputs, targets = data\n",
        "      inputs, targets = inputs.float(), targets.float()\n",
        "      \n",
        "      # Perform forward pass\n",
        "      outputs = model(inputs.cuda())\n",
        "      \n",
        "      # Compute loss\n",
        "      loss = loss_function(outputs, targets.cuda())\n",
        "      \n",
        "      # Print statistics\n",
        "      current_loss += loss.item()\n",
        "      val_loss = current_loss / len(val_loader)\n",
        "      if i % 100 == 0:\n",
        "        elapsed = time.time() - start_time\n",
        "        mb.write(f'Epoch {epoch+1} - VALLoss after mini-batch {(i + 1):5d}: {val_loss:.8f} - Time: {elapsed:.0f}s')\n",
        "        current_loss = 0.0\n",
        "      i = i + 1\n",
        "\n",
        "    if last_loss > best_loss and saveCheckpoints == True and i > 1:\n",
        "      saveCheckpoint(epoch, model.state_dict(), optimizer.state_dict(), last_loss)\n",
        "      best_loss = last_loss\n",
        "\n",
        "    if epoch % 5 == 0 and plotResults == True:\n",
        "      plotData(outputs, targets, f\"Epoch {epoch+1} - Validation\")\n",
        "\n",
        "    scheduler.step(val_loss)\n",
        "    # check if val loss has been improving during patience period. If not, stop\n",
        "    is_val_improving = scheduler.is_better(val_loss, best_val)\n",
        "    if not is_val_improving:\n",
        "        k_patience += 1\n",
        "    else:\n",
        "        k_patience = 0\n",
        "    if k_patience > patience * 3:\n",
        "        # Increase patience since adaptive learning rate is changed AFTER this step\n",
        "        print(\"Early Stopping\")\n",
        "        break\n",
        "\n",
        "    best_val = scheduler.best\n",
        "    lr = optimizer.param_groups[0]['lr']\n",
        "  if saveModel == True:\n",
        "    torch.save(model.state_dict(), '/content/drive/MyDrive/Senior_Design/finalTrainedModel.pt')\n",
        "  print(\"Training took: \", timedelta(seconds=time.time() - final_start_time))\n",
        "  return model"
      ],
      "metadata": {
        "id": "chSp1UCfPPoY"
      },
      "execution_count": 10,
      "outputs": []
    },
    {
      "cell_type": "code",
      "source": [
        "def predictModel(test_dataset):\n",
        "  batch_size = 64\n",
        "  test_loader = DataLoader(test_dataset, batch_size=batch_size, shuffle=False)\n",
        "  model= ConvNet()\n",
        "  model.load_state_dict(torch.load('/content/drive/MyDrive/Senior_Design/finalTrainedModel.pt', map_location=torch.device('cpu')))\n",
        "  model = model.cuda()\n",
        "\n",
        "  all_outputs = []\n",
        "  pb = progress_bar(test_loader)\n",
        "  i = 0\n",
        "  for data in pb:\n",
        "    # Get and prepare inputs\n",
        "    inputs, targets = data\n",
        "    inputs, targets = inputs.float(), targets.float()\n",
        "    \n",
        "    # Perform forward pass\n",
        "    outputs = model(inputs.cuda())\n",
        "    if i == 0:\n",
        "      all_outputs = outputs.cpu().detach().numpy()\n",
        "    else:\n",
        "      all_outputs = np.concatenate((all_outputs, outputs.cpu().detach().numpy()), axis=0)\n",
        "    i+=1\n",
        "  return all_outputs"
      ],
      "metadata": {
        "id": "1sMzPtoqQoRR"
      },
      "execution_count": 11,
      "outputs": []
    },
    {
      "cell_type": "code",
      "source": [
        "allMidi_X = getSpectrograms2()"
      ],
      "metadata": {
        "id": "KrxN8Cvv8KRy"
      },
      "execution_count": 13,
      "outputs": []
    },
    {
      "cell_type": "code",
      "source": [
        "midi_X, midi_Y = getSets2(allMidi_X)"
      ],
      "metadata": {
        "id": "nPquSk3Z8jVC"
      },
      "execution_count": 14,
      "outputs": []
    },
    {
      "cell_type": "code",
      "source": [
        "midi_X.shape, midi_Y.shape"
      ],
      "metadata": {
        "colab": {
          "base_uri": "https://localhost:8080/"
        },
        "id": "ntda78gU8R4w",
        "outputId": "8f330ebf-0ec7-4790-fb33-afa0b9f217a3"
      },
      "execution_count": 15,
      "outputs": [
        {
          "output_type": "execute_result",
          "data": {
            "text/plain": [
              "((188980, 1025), (188980, 48))"
            ]
          },
          "metadata": {},
          "execution_count": 15
        }
      ]
    },
    {
      "cell_type": "code",
      "source": [
        "dataset_train, dataset_test = buildDatasets(midi_X[:-50000], midi_Y[:-50000], midi_X[-50000:-25000], midi_Y[-50000:-25000])\n",
        "dataset_train, dataset_val = buildDatasets(midi_X[:-50000], midi_Y[:-50000], midi_X[-25000:], midi_Y[-25000:])"
      ],
      "metadata": {
        "id": "p0f8Payf9BnA"
      },
      "execution_count": 16,
      "outputs": []
    },
    {
      "cell_type": "markdown",
      "source": [
        "2 Hours and 10 minutes of training on GPU"
      ],
      "metadata": {
        "id": "GGNZn-88z3H8"
      }
    },
    {
      "cell_type": "code",
      "source": [
        "from torchsummary import summary\n",
        "model = trainModel(dataset_train=dataset_train, dataset_val=dataset_val,\n",
        "                   num_epochs=5, \n",
        "                   batch_size=32, \n",
        "                   loadCheckPoint=False, \n",
        "                   saveModel=False, #True, \n",
        "                   saveCheckpoints=False, #True, \n",
        "                   plotResults=True, \n",
        "                   pretrained=False)"
      ],
      "metadata": {
        "id": "GhDIGFBAgaGu",
        "colab": {
          "base_uri": "https://localhost:8080/",
          "height": 1000
        },
        "outputId": "9f33fd99-6e1c-4e74-ec80-aafcf04748f2"
      },
      "execution_count": 17,
      "outputs": [
        {
          "output_type": "display_data",
          "data": {
            "text/plain": [
              "<IPython.core.display.HTML object>"
            ],
            "text/html": [
              "\n",
              "<style>\n",
              "    /* Turns off some styling */\n",
              "    progress {\n",
              "        /* gets rid of default border in Firefox and Opera. */\n",
              "        border: none;\n",
              "        /* Needs to be in here for Safari polyfill so background images work as expected. */\n",
              "        background-size: auto;\n",
              "    }\n",
              "    progress:not([value]), progress:not([value])::-webkit-progress-bar {\n",
              "        background: repeating-linear-gradient(45deg, #7e7e7e, #7e7e7e 10px, #5c5c5c 10px, #5c5c5c 20px);\n",
              "    }\n",
              "    .progress-bar-interrupted, .progress-bar-interrupted::-webkit-progress-bar {\n",
              "        background: #F44336;\n",
              "    }\n",
              "</style>\n"
            ]
          },
          "metadata": {}
        },
        {
          "output_type": "display_data",
          "data": {
            "text/plain": [
              "<IPython.core.display.HTML object>"
            ],
            "text/html": [
              "Epoch 1 - Loss after mini-batch     1: 0.00001592 - Time: 8s<p>Epoch 1 - Loss after mini-batch   101: 0.00060695 - Time: 30s<p>Epoch 1 - Loss after mini-batch   201: 0.00050496 - Time: 52s<p>Epoch 1 - Loss after mini-batch   301: 0.00047655 - Time: 74s<p>Epoch 1 - Loss after mini-batch   401: 0.00046709 - Time: 96s<p>Epoch 1 - Loss after mini-batch   501: 0.00051771 - Time: 117s<p>Epoch 1 - Loss after mini-batch   601: 0.00047393 - Time: 139s<p>Epoch 1 - Loss after mini-batch   701: 0.00051254 - Time: 161s<p>Epoch 1 - Loss after mini-batch   801: 0.00050363 - Time: 183s<p>Epoch 1 - Loss after mini-batch   901: 0.00054744 - Time: 205s<p>Epoch 1 - Loss after mini-batch  1001: 0.00048508 - Time: 227s<p>Epoch 1 - Loss after mini-batch  1101: 0.00049628 - Time: 248s<p>Epoch 1 - Loss after mini-batch  1201: 0.00048280 - Time: 270s<p>Epoch 1 - Loss after mini-batch  1301: 0.00047073 - Time: 292s<p>Epoch 1 - Loss after mini-batch  1401: 0.00047608 - Time: 314s<p>Epoch 1 - Loss after mini-batch  1501: 0.00049032 - Time: 336s<p>Epoch 1 - Loss after mini-batch  1601: 0.00049537 - Time: 358s<p>Epoch 1 - Loss after mini-batch  1701: 0.00045541 - Time: 379s<p>Epoch 1 - Loss after mini-batch  1801: 0.00051232 - Time: 401s<p>Epoch 1 - Loss after mini-batch  1901: 0.00048177 - Time: 423s<p>Epoch 1 - Loss after mini-batch  2001: 0.00047758 - Time: 445s<p>Epoch 1 - Loss after mini-batch  2101: 0.00050838 - Time: 467s<p>Epoch 1 - Loss after mini-batch  2201: 0.00050788 - Time: 489s<p>Epoch 1 - Loss after mini-batch  2301: 0.00049070 - Time: 510s<p>Epoch 1 - Loss after mini-batch  2401: 0.00047334 - Time: 532s<p>Epoch 1 - Loss after mini-batch  2501: 0.00047661 - Time: 554s<p>Epoch 1 - Loss after mini-batch  2601: 0.00051265 - Time: 576s<p>Epoch 1 - Loss after mini-batch  2701: 0.00050646 - Time: 598s<p>Epoch 1 - Loss after mini-batch  2801: 0.00048279 - Time: 620s<p>Epoch 1 - Loss after mini-batch  2901: 0.00047517 - Time: 641s<p>Epoch 1 - Loss after mini-batch  3001: 0.00048111 - Time: 663s<p>Epoch 1 - Loss after mini-batch  3101: 0.00048029 - Time: 685s<p>Epoch 1 - Loss after mini-batch  3201: 0.00048327 - Time: 707s<p>Epoch 1 - Loss after mini-batch  3301: 0.00047802 - Time: 728s<p>Epoch 1 - Loss after mini-batch  3401: 0.00049524 - Time: 750s<p>Epoch 1 - Loss after mini-batch  3501: 0.00049588 - Time: 772s<p>Epoch 1 - Loss after mini-batch  3601: 0.00050436 - Time: 794s<p>Epoch 1 - Loss after mini-batch  3701: 0.00044933 - Time: 816s<p>Epoch 1 - Loss after mini-batch  3801: 0.00049814 - Time: 838s<p>Epoch 1 - Loss after mini-batch  3901: 0.00049715 - Time: 859s<p>Epoch 1 - Loss after mini-batch  4001: 0.00050504 - Time: 881s<p>Epoch 1 - Loss after mini-batch  4101: 0.00048838 - Time: 903s<p>Epoch 1 - Loss after mini-batch  4201: 0.00047576 - Time: 925s<p>Epoch 1 - Loss after mini-batch  4301: 0.00050136 - Time: 947s<p>Epoch 1 - VALLoss after mini-batch     1: 0.00001144 - Time: 956s<p>Epoch 1 - VALLoss after mini-batch   101: 0.00133864 - Time: 964s<p>Epoch 1 - VALLoss after mini-batch   201: 0.00138994 - Time: 972s<p>Epoch 1 - VALLoss after mini-batch   301: 0.00140349 - Time: 980s<p>Epoch 1 - VALLoss after mini-batch   401: 0.00132406 - Time: 989s<p>Epoch 1 - VALLoss after mini-batch   501: 0.00133674 - Time: 997s<p>Epoch 1 - VALLoss after mini-batch   601: 0.00145860 - Time: 1005s<p>Epoch 1 - VALLoss after mini-batch   701: 0.00131640 - Time: 1013s<p>Epoch 2 - Loss after mini-batch     1: 0.00000530 - Time: 0s<p>Epoch 2 - Loss after mini-batch   101: 0.00046668 - Time: 22s<p>Epoch 2 - Loss after mini-batch   201: 0.00047711 - Time: 44s<p>Epoch 2 - Loss after mini-batch   301: 0.00047091 - Time: 66s<p>Epoch 2 - Loss after mini-batch   401: 0.00052755 - Time: 88s<p>Epoch 2 - Loss after mini-batch   501: 0.00047992 - Time: 109s<p>Epoch 2 - Loss after mini-batch   601: 0.00051598 - Time: 131s<p>Epoch 2 - Loss after mini-batch   701: 0.00047707 - Time: 153s<p>Epoch 2 - Loss after mini-batch   801: 0.00051679 - Time: 175s<p>Epoch 2 - Loss after mini-batch   901: 0.00045731 - Time: 197s<p>Epoch 2 - Loss after mini-batch  1001: 0.00047457 - Time: 219s<p>Epoch 2 - Loss after mini-batch  1101: 0.00048319 - Time: 240s<p>Epoch 2 - Loss after mini-batch  1201: 0.00045417 - Time: 262s<p>Epoch 2 - Loss after mini-batch  1301: 0.00045756 - Time: 284s<p>Epoch 2 - Loss after mini-batch  1401: 0.00049719 - Time: 306s<p>Epoch 2 - Loss after mini-batch  1501: 0.00049402 - Time: 328s<p>Epoch 2 - Loss after mini-batch  1601: 0.00048130 - Time: 350s<p>Epoch 2 - Loss after mini-batch  1701: 0.00048623 - Time: 372s<p>Epoch 2 - Loss after mini-batch  1801: 0.00047751 - Time: 393s<p>Epoch 2 - Loss after mini-batch  1901: 0.00047782 - Time: 415s<p>Epoch 2 - Loss after mini-batch  2001: 0.00052373 - Time: 437s<p>Epoch 2 - Loss after mini-batch  2101: 0.00046615 - Time: 459s<p>Epoch 2 - Loss after mini-batch  2201: 0.00045190 - Time: 481s<p>Epoch 2 - Loss after mini-batch  2301: 0.00052201 - Time: 503s<p>Epoch 2 - Loss after mini-batch  2401: 0.00048719 - Time: 525s<p>Epoch 2 - Loss after mini-batch  2501: 0.00050098 - Time: 546s<p>Epoch 2 - Loss after mini-batch  2601: 0.00049304 - Time: 568s<p>Epoch 2 - Loss after mini-batch  2701: 0.00044218 - Time: 590s<p>Epoch 2 - Loss after mini-batch  2801: 0.00050560 - Time: 612s<p>Epoch 2 - Loss after mini-batch  2901: 0.00047507 - Time: 634s<p>Epoch 2 - Loss after mini-batch  3001: 0.00048169 - Time: 656s<p>Epoch 2 - Loss after mini-batch  3101: 0.00048029 - Time: 678s<p>Epoch 2 - Loss after mini-batch  3201: 0.00046724 - Time: 699s<p>Epoch 2 - Loss after mini-batch  3301: 0.00046058 - Time: 721s<p>Epoch 2 - Loss after mini-batch  3401: 0.00047122 - Time: 743s<p>Epoch 2 - Loss after mini-batch  3501: 0.00047858 - Time: 765s<p>Epoch 2 - Loss after mini-batch  3601: 0.00046003 - Time: 787s<p>Epoch 2 - Loss after mini-batch  3701: 0.00047161 - Time: 808s<p>Epoch 2 - Loss after mini-batch  3801: 0.00041804 - Time: 830s<p>Epoch 2 - Loss after mini-batch  3901: 0.00045164 - Time: 852s<p>Epoch 2 - Loss after mini-batch  4001: 0.00046401 - Time: 874s<p>Epoch 2 - Loss after mini-batch  4101: 0.00050518 - Time: 896s<p>Epoch 2 - Loss after mini-batch  4201: 0.00046523 - Time: 918s<p>Epoch 2 - Loss after mini-batch  4301: 0.00042683 - Time: 940s<p>Epoch 2 - VALLoss after mini-batch     1: 0.00001159 - Time: 949s<p>Epoch 2 - VALLoss after mini-batch   101: 0.00133764 - Time: 957s<p>Epoch 2 - VALLoss after mini-batch   201: 0.00140898 - Time: 965s<p>Epoch 2 - VALLoss after mini-batch   301: 0.00137715 - Time: 973s<p>Epoch 2 - VALLoss after mini-batch   401: 0.00147720 - Time: 981s<p>Epoch 2 - VALLoss after mini-batch   501: 0.00142178 - Time: 989s<p>Epoch 2 - VALLoss after mini-batch   601: 0.00135812 - Time: 997s<p>Epoch 2 - VALLoss after mini-batch   701: 0.00130141 - Time: 1006s<p>Epoch 3 - Loss after mini-batch     1: 0.00000615 - Time: 0s<p>Epoch 3 - Loss after mini-batch   101: 0.00048643 - Time: 22s<p>Epoch 3 - Loss after mini-batch   201: 0.00048006 - Time: 44s<p>Epoch 3 - Loss after mini-batch   301: 0.00047612 - Time: 66s<p>Epoch 3 - Loss after mini-batch   401: 0.00044779 - Time: 87s<p>Epoch 3 - Loss after mini-batch   501: 0.00046634 - Time: 109s<p>Epoch 3 - Loss after mini-batch   601: 0.00048835 - Time: 131s<p>Epoch 3 - Loss after mini-batch   701: 0.00046027 - Time: 153s<p>Epoch 3 - Loss after mini-batch   801: 0.00046180 - Time: 175s<p>Epoch 3 - Loss after mini-batch   901: 0.00045494 - Time: 197s<p>Epoch 3 - Loss after mini-batch  1001: 0.00049948 - Time: 219s<p>Epoch 3 - Loss after mini-batch  1101: 0.00047699 - Time: 241s<p>Epoch 3 - Loss after mini-batch  1201: 0.00043626 - Time: 262s<p>Epoch 3 - Loss after mini-batch  1301: 0.00050517 - Time: 284s<p>Epoch 3 - Loss after mini-batch  1401: 0.00046794 - Time: 306s<p>Epoch 3 - Loss after mini-batch  1501: 0.00050220 - Time: 328s<p>Epoch 3 - Loss after mini-batch  1601: 0.00051839 - Time: 350s<p>Epoch 3 - Loss after mini-batch  1701: 0.00047709 - Time: 372s<p>Epoch 3 - Loss after mini-batch  1801: 0.00045855 - Time: 394s<p>Epoch 3 - Loss after mini-batch  1901: 0.00045973 - Time: 416s<p>Epoch 3 - Loss after mini-batch  2001: 0.00045956 - Time: 438s<p>Epoch 3 - Loss after mini-batch  2101: 0.00049861 - Time: 460s<p>Epoch 3 - Loss after mini-batch  2201: 0.00047304 - Time: 482s<p>Epoch 3 - Loss after mini-batch  2301: 0.00046149 - Time: 504s<p>Epoch 3 - Loss after mini-batch  2401: 0.00048696 - Time: 526s<p>Epoch 3 - Loss after mini-batch  2501: 0.00045515 - Time: 548s<p>Epoch 3 - Loss after mini-batch  2601: 0.00046320 - Time: 569s<p>Epoch 3 - Loss after mini-batch  2701: 0.00046804 - Time: 591s<p>Epoch 3 - Loss after mini-batch  2801: 0.00045994 - Time: 613s<p>Epoch 3 - Loss after mini-batch  2901: 0.00048290 - Time: 635s<p>Epoch 3 - Loss after mini-batch  3001: 0.00047687 - Time: 657s<p>Epoch 3 - Loss after mini-batch  3101: 0.00045231 - Time: 679s<p>Epoch 3 - Loss after mini-batch  3201: 0.00046969 - Time: 701s<p>Epoch 3 - Loss after mini-batch  3301: 0.00046789 - Time: 723s<p>Epoch 3 - Loss after mini-batch  3401: 0.00043796 - Time: 745s<p>Epoch 3 - Loss after mini-batch  3501: 0.00045930 - Time: 767s<p>Epoch 3 - Loss after mini-batch  3601: 0.00042391 - Time: 789s<p>Epoch 3 - Loss after mini-batch  3701: 0.00046654 - Time: 811s<p>Epoch 3 - Loss after mini-batch  3801: 0.00045091 - Time: 833s<p>Epoch 3 - Loss after mini-batch  3901: 0.00047166 - Time: 855s<p>Epoch 3 - Loss after mini-batch  4001: 0.00048666 - Time: 877s<p>Epoch 3 - Loss after mini-batch  4101: 0.00046480 - Time: 899s<p>Epoch 3 - Loss after mini-batch  4201: 0.00047767 - Time: 921s<p>Epoch 3 - Loss after mini-batch  4301: 0.00044059 - Time: 943s<p>Epoch 3 - VALLoss after mini-batch     1: 0.00001307 - Time: 952s<p>Epoch 3 - VALLoss after mini-batch   101: 0.00137768 - Time: 960s<p>Epoch 3 - VALLoss after mini-batch   201: 0.00132103 - Time: 968s<p>Epoch 3 - VALLoss after mini-batch   301: 0.00123002 - Time: 976s<p>Epoch 3 - VALLoss after mini-batch   401: 0.00121633 - Time: 984s<p>Epoch 3 - VALLoss after mini-batch   501: 0.00142124 - Time: 993s<p>Epoch 3 - VALLoss after mini-batch   601: 0.00140948 - Time: 1001s<p>Epoch 3 - VALLoss after mini-batch   701: 0.00138618 - Time: 1009s<p>Epoch 4 - Loss after mini-batch     1: 0.00000572 - Time: 0s<p>Epoch 4 - Loss after mini-batch   101: 0.00046158 - Time: 22s<p>Epoch 4 - Loss after mini-batch   201: 0.00044814 - Time: 44s<p>Epoch 4 - Loss after mini-batch   301: 0.00049087 - Time: 66s<p>Epoch 4 - Loss after mini-batch   401: 0.00046674 - Time: 88s<p>Epoch 4 - Loss after mini-batch   501: 0.00043959 - Time: 110s<p>Epoch 4 - Loss after mini-batch   601: 0.00047786 - Time: 132s<p>Epoch 4 - Loss after mini-batch   701: 0.00046928 - Time: 154s<p>Epoch 4 - Loss after mini-batch   801: 0.00048272 - Time: 176s<p>Epoch 4 - Loss after mini-batch   901: 0.00044012 - Time: 198s<p>Epoch 4 - Loss after mini-batch  1001: 0.00045649 - Time: 220s<p>Epoch 4 - Loss after mini-batch  1101: 0.00045785 - Time: 242s<p>Epoch 4 - Loss after mini-batch  1201: 0.00047074 - Time: 264s<p>Epoch 4 - Loss after mini-batch  1301: 0.00047795 - Time: 286s<p>Epoch 4 - Loss after mini-batch  1401: 0.00045818 - Time: 308s<p>Epoch 4 - Loss after mini-batch  1501: 0.00047744 - Time: 330s<p>Epoch 4 - Loss after mini-batch  1601: 0.00044455 - Time: 352s<p>Epoch 4 - Loss after mini-batch  1701: 0.00044075 - Time: 374s<p>Epoch 4 - Loss after mini-batch  1801: 0.00046882 - Time: 396s<p>Epoch 4 - Loss after mini-batch  1901: 0.00048677 - Time: 418s<p>Epoch 4 - Loss after mini-batch  2001: 0.00048669 - Time: 440s<p>Epoch 4 - Loss after mini-batch  2101: 0.00050583 - Time: 462s<p>Epoch 4 - Loss after mini-batch  2201: 0.00049166 - Time: 484s<p>Epoch 4 - Loss after mini-batch  2301: 0.00049423 - Time: 506s<p>Epoch 4 - Loss after mini-batch  2401: 0.00045384 - Time: 527s<p>Epoch 4 - Loss after mini-batch  2501: 0.00046783 - Time: 549s<p>Epoch 4 - Loss after mini-batch  2601: 0.00046711 - Time: 572s<p>Epoch 4 - Loss after mini-batch  2701: 0.00046356 - Time: 594s<p>Epoch 4 - Loss after mini-batch  2801: 0.00044725 - Time: 615s<p>Epoch 4 - Loss after mini-batch  2901: 0.00045372 - Time: 637s<p>Epoch 4 - Loss after mini-batch  3001: 0.00048072 - Time: 659s<p>Epoch 4 - Loss after mini-batch  3101: 0.00045479 - Time: 681s<p>Epoch 4 - Loss after mini-batch  3201: 0.00047630 - Time: 703s<p>Epoch 4 - Loss after mini-batch  3301: 0.00046690 - Time: 725s<p>Epoch 4 - Loss after mini-batch  3401: 0.00046240 - Time: 747s<p>Epoch 4 - Loss after mini-batch  3501: 0.00044389 - Time: 769s<p>Epoch 4 - Loss after mini-batch  3601: 0.00047299 - Time: 791s<p>Epoch 4 - Loss after mini-batch  3701: 0.00045794 - Time: 813s<p>Epoch 4 - Loss after mini-batch  3801: 0.00047144 - Time: 835s<p>Epoch 4 - Loss after mini-batch  3901: 0.00044788 - Time: 857s<p>Epoch 4 - Loss after mini-batch  4001: 0.00047375 - Time: 879s<p>Epoch 4 - Loss after mini-batch  4101: 0.00046400 - Time: 901s<p>Epoch 4 - Loss after mini-batch  4201: 0.00041427 - Time: 924s<p>Epoch 4 - Loss after mini-batch  4301: 0.00046071 - Time: 945s<p>Epoch 4 - VALLoss after mini-batch     1: 0.00000927 - Time: 955s<p>Epoch 4 - VALLoss after mini-batch   101: 0.00131120 - Time: 963s<p>Epoch 4 - VALLoss after mini-batch   201: 0.00131394 - Time: 971s<p>Epoch 4 - VALLoss after mini-batch   301: 0.00121690 - Time: 979s<p>Epoch 4 - VALLoss after mini-batch   401: 0.00128761 - Time: 987s<p>Epoch 4 - VALLoss after mini-batch   501: 0.00138058 - Time: 995s<p>Epoch 4 - VALLoss after mini-batch   601: 0.00132215 - Time: 1003s<p>Epoch 4 - VALLoss after mini-batch   701: 0.00121398 - Time: 1012s<p>Epoch 5 - Loss after mini-batch     1: 0.00000288 - Time: 0s<p>Epoch 5 - Loss after mini-batch   101: 0.00048838 - Time: 22s<p>Epoch 5 - Loss after mini-batch   201: 0.00046305 - Time: 44s<p>Epoch 5 - Loss after mini-batch   301: 0.00045350 - Time: 67s<p>Epoch 5 - Loss after mini-batch   401: 0.00047455 - Time: 89s<p>Epoch 5 - Loss after mini-batch   501: 0.00045170 - Time: 110s<p>Epoch 5 - Loss after mini-batch   601: 0.00044333 - Time: 133s<p>Epoch 5 - Loss after mini-batch   701: 0.00045257 - Time: 155s<p>Epoch 5 - Loss after mini-batch   801: 0.00042682 - Time: 177s<p>Epoch 5 - Loss after mini-batch   901: 0.00045244 - Time: 199s<p>Epoch 5 - Loss after mini-batch  1001: 0.00045650 - Time: 221s<p>Epoch 5 - Loss after mini-batch  1101: 0.00045995 - Time: 243s<p>Epoch 5 - Loss after mini-batch  1201: 0.00047932 - Time: 265s<p>Epoch 5 - Loss after mini-batch  1301: 0.00045416 - Time: 287s<p>Epoch 5 - Loss after mini-batch  1401: 0.00047825 - Time: 309s<p>Epoch 5 - Loss after mini-batch  1501: 0.00049568 - Time: 331s<p>Epoch 5 - Loss after mini-batch  1601: 0.00042298 - Time: 353s<p>Epoch 5 - Loss after mini-batch  1701: 0.00045877 - Time: 375s<p>Epoch 5 - Loss after mini-batch  1801: 0.00045948 - Time: 397s<p>Epoch 5 - Loss after mini-batch  1901: 0.00046793 - Time: 419s<p>Epoch 5 - Loss after mini-batch  2001: 0.00048569 - Time: 441s<p>Epoch 5 - Loss after mini-batch  2101: 0.00044638 - Time: 463s<p>Epoch 5 - Loss after mini-batch  2201: 0.00045273 - Time: 485s<p>Epoch 5 - Loss after mini-batch  2301: 0.00045036 - Time: 507s<p>Epoch 5 - Loss after mini-batch  2401: 0.00048194 - Time: 529s<p>Epoch 5 - Loss after mini-batch  2501: 0.00046115 - Time: 551s<p>Epoch 5 - Loss after mini-batch  2601: 0.00049931 - Time: 573s<p>Epoch 5 - Loss after mini-batch  2701: 0.00046138 - Time: 595s<p>Epoch 5 - Loss after mini-batch  2801: 0.00043814 - Time: 617s<p>Epoch 5 - Loss after mini-batch  2901: 0.00046574 - Time: 639s<p>Epoch 5 - Loss after mini-batch  3001: 0.00045624 - Time: 661s<p>Epoch 5 - Loss after mini-batch  3101: 0.00046067 - Time: 683s<p>Epoch 5 - Loss after mini-batch  3201: 0.00045444 - Time: 706s<p>Epoch 5 - Loss after mini-batch  3301: 0.00046030 - Time: 728s<p>Epoch 5 - Loss after mini-batch  3401: 0.00047786 - Time: 750s<p>Epoch 5 - Loss after mini-batch  3501: 0.00047371 - Time: 772s<p>Epoch 5 - Loss after mini-batch  3601: 0.00047584 - Time: 794s<p>Epoch 5 - Loss after mini-batch  3701: 0.00047039 - Time: 816s<p>Epoch 5 - Loss after mini-batch  3801: 0.00046089 - Time: 838s<p>Epoch 5 - Loss after mini-batch  3901: 0.00047655 - Time: 860s<p>Epoch 5 - Loss after mini-batch  4001: 0.00046679 - Time: 882s<p>Epoch 5 - Loss after mini-batch  4101: 0.00044631 - Time: 904s<p>Epoch 5 - Loss after mini-batch  4201: 0.00047018 - Time: 926s<p>Epoch 5 - Loss after mini-batch  4301: 0.00048230 - Time: 948s<p>Epoch 5 - VALLoss after mini-batch     1: 0.00000862 - Time: 957s<p>Epoch 5 - VALLoss after mini-batch   101: 0.00118341 - Time: 965s<p>Epoch 5 - VALLoss after mini-batch   201: 0.00136715 - Time: 973s<p>Epoch 5 - VALLoss after mini-batch   301: 0.00132230 - Time: 982s<p>Epoch 5 - VALLoss after mini-batch   401: 0.00143867 - Time: 990s<p>Epoch 5 - VALLoss after mini-batch   501: 0.00123000 - Time: 998s<p>Epoch 5 - VALLoss after mini-batch   601: 0.00122878 - Time: 1006s<p>Epoch 5 - VALLoss after mini-batch   701: 0.00131638 - Time: 1014s"
            ]
          },
          "metadata": {}
        },
        {
          "output_type": "display_data",
          "data": {
            "text/plain": [
              "<Figure size 432x288 with 1 Axes>"
            ],
            "image/png": "[encoded data removed]"
          },
          "metadata": {
            "needs_background": "light"
          }
        },
        {
          "output_type": "display_data",
          "data": {
            "text/plain": [
              "<Figure size 432x288 with 1 Axes>"
            ],
            "image/png": "[encoded data removed]"
          },
          "metadata": {
            "needs_background": "light"
          }
        },
        {
          "output_type": "display_data",
          "data": {
            "text/plain": [
              "<Figure size 432x288 with 1 Axes>"
            ],
            "image/png": "[encoded data removed]"
          },
          "metadata": {
            "needs_background": "light"
          }
        },
        {
          "output_type": "display_data",
          "data": {
            "text/plain": [
              "<Figure size 432x288 with 1 Axes>"
            ],
            "image/png": "[encoded data removed]"
          },
          "metadata": {
            "needs_background": "light"
          }
        },
        {
          "output_type": "stream",
          "name": "stdout",
          "text": [
            "Training took:  1:24:45.964537\n"
          ]
        }
      ]
    },
    {
      "cell_type": "markdown",
      "source": [
        "7 Minutes on predicting on CPU"
      ],
      "metadata": {
        "id": "WMgONtEtzoJs"
      }
    },
    {
      "cell_type": "code",
      "source": [
        "prediction = predictModel(dataset_test)"
      ],
      "metadata": {
        "colab": {
          "base_uri": "https://localhost:8080/",
          "height": 36
        },
        "id": "8LCIte0iiFFT",
        "outputId": "db075e8a-57ff-48ab-a4dc-2de3faa2afc2"
      },
      "execution_count": 18,
      "outputs": [
        {
          "output_type": "display_data",
          "data": {
            "text/plain": [
              "<IPython.core.display.HTML object>"
            ],
            "text/html": [
              "\n",
              "<style>\n",
              "    /* Turns off some styling */\n",
              "    progress {\n",
              "        /* gets rid of default border in Firefox and Opera. */\n",
              "        border: none;\n",
              "        /* Needs to be in here for Safari polyfill so background images work as expected. */\n",
              "        background-size: auto;\n",
              "    }\n",
              "    progress:not([value]), progress:not([value])::-webkit-progress-bar {\n",
              "        background: repeating-linear-gradient(45deg, #7e7e7e, #7e7e7e 10px, #5c5c5c 10px, #5c5c5c 20px);\n",
              "    }\n",
              "    .progress-bar-interrupted, .progress-bar-interrupted::-webkit-progress-bar {\n",
              "        background: #F44336;\n",
              "    }\n",
              "</style>\n"
            ]
          },
          "metadata": {}
        },
        {
          "output_type": "display_data",
          "data": {
            "text/plain": [
              "<IPython.core.display.HTML object>"
            ],
            "text/html": [
              "\n",
              "    <div>\n",
              "      <progress value='390' class='' max='390' style='width:300px; height:20px; vertical-align: middle;'></progress>\n",
              "      100.00% [390/390 01:04&lt;00:00]\n",
              "    </div>\n",
              "    "
            ]
          },
          "metadata": {}
        }
      ]
    },
    {
      "cell_type": "code",
      "source": [
        "prediction.shape"
      ],
      "metadata": {
        "colab": {
          "base_uri": "https://localhost:8080/"
        },
        "id": "EPapf02TwEU6",
        "outputId": "1282a9b7-3c2d-48e0-81b4-092c8895fc6e"
      },
      "execution_count": 19,
      "outputs": [
        {
          "output_type": "execute_result",
          "data": {
            "text/plain": [
              "(24960, 48)"
            ]
          },
          "metadata": {},
          "execution_count": 19
        }
      ]
    },
    {
      "cell_type": "code",
      "source": [
        "b = 12#range(1, 8,2)\n",
        "_ = plt.plot(prediction[:, b])"
      ],
      "metadata": {
        "colab": {
          "base_uri": "https://localhost:8080/",
          "height": 264
        },
        "id": "rMTJWFNMr6qs",
        "outputId": "ca85617e-cf6f-4a7a-9137-fb46f7003ce2"
      },
      "execution_count": 55,
      "outputs": [
        {
          "output_type": "display_data",
          "data": {
            "text/plain": [
              "<Figure size 432x288 with 1 Axes>"
            ],
            "image/png": "[encoded data removed]"
          },
          "metadata": {
            "needs_background": "light"
          }
        }
      ]
    },
    {
      "cell_type": "code",
      "source": [
        "_ = plt.plot(midi_Y[-50000:-25000, b])"
      ],
      "metadata": {
        "colab": {
          "base_uri": "https://localhost:8080/",
          "height": 268
        },
        "id": "2k48yhyusFDu",
        "outputId": "8c320785-fb8e-428d-f152-1c208b2a5b8b"
      },
      "execution_count": 56,
      "outputs": [
        {
          "output_type": "display_data",
          "data": {
            "text/plain": [
              "<Figure size 432x288 with 1 Axes>"
            ],
            "image/png": "[encoded data removed]"
          },
          "metadata": {
            "needs_background": "light"
          }
        }
      ]
    },
    {
      "cell_type": "code",
      "source": [
        "from torchvision import models\n",
        "from torchsummary import summary\n",
        "from torchvision import models\n",
        "from torchsummary import summary\n",
        "import torch\n",
        "import numpy as np\n",
        "import torch.nn as nn\n",
        "\n",
        "model = ConvNet().cuda()\n",
        "summary(model, input_size = (1,40,1025))"
      ],
      "metadata": {
        "colab": {
          "base_uri": "https://localhost:8080/"
        },
        "id": "v5x-kXS29e26",
        "outputId": "e6bdaae7-6efa-4787-b238-5dd528458fec"
      },
      "execution_count": 57,
      "outputs": [
        {
          "output_type": "stream",
          "name": "stdout",
          "text": [
            "----------------------------------------------------------------\n",
            "        Layer (type)               Output Shape         Param #\n",
            "================================================================\n",
            "            Conv2d-1         [-1, 64, 40, 1025]             640\n",
            "       BatchNorm2d-2         [-1, 64, 40, 1025]             128\n",
            "           Dropout-3         [-1, 64, 40, 1025]               0\n",
            "              ReLU-4         [-1, 64, 40, 1025]               0\n",
            "         MaxPool2d-5          [-1, 64, 20, 512]               0\n",
            "            Conv2d-6         [-1, 128, 20, 512]          73,856\n",
            "       BatchNorm2d-7         [-1, 128, 20, 512]             256\n",
            "           Dropout-8         [-1, 128, 20, 512]               0\n",
            "              ReLU-9         [-1, 128, 20, 512]               0\n",
            "        MaxPool2d-10         [-1, 128, 10, 256]               0\n",
            "           Conv2d-11         [-1, 256, 10, 256]         295,168\n",
            "      BatchNorm2d-12         [-1, 256, 10, 256]             512\n",
            "          Dropout-13         [-1, 256, 10, 256]               0\n",
            "             ReLU-14         [-1, 256, 10, 256]               0\n",
            "           Conv2d-15         [-1, 256, 10, 256]         590,080\n",
            "             ReLU-16         [-1, 256, 10, 256]               0\n",
            "        MaxPool2d-17          [-1, 256, 5, 128]               0\n",
            "           Conv2d-18          [-1, 512, 5, 128]       1,180,160\n",
            "          Dropout-19          [-1, 512, 5, 128]               0\n",
            "      BatchNorm2d-20          [-1, 512, 5, 128]           1,024\n",
            "             ReLU-21          [-1, 512, 5, 128]               0\n",
            "           Conv2d-22          [-1, 512, 5, 128]       2,359,808\n",
            "          Dropout-23          [-1, 512, 5, 128]               0\n",
            "             ReLU-24          [-1, 512, 5, 128]               0\n",
            "        MaxPool2d-25           [-1, 512, 2, 64]               0\n",
            "           Linear-26                   [-1, 32]       2,097,184\n",
            "             ReLU-27                   [-1, 32]               0\n",
            "           Linear-28                 [-1, 4096]         135,168\n",
            "             ReLU-29                 [-1, 4096]               0\n",
            "           Linear-30                  [-1, 128]         524,416\n",
            "           Linear-31                   [-1, 48]           6,192\n",
            "================================================================\n",
            "Total params: 7,264,592\n",
            "Trainable params: 7,264,592\n",
            "Non-trainable params: 0\n",
            "----------------------------------------------------------------\n",
            "Input size (MB): 0.16\n",
            "Forward/backward pass size (MB): 176.89\n",
            "Params size (MB): 27.71\n",
            "Estimated Total Size (MB): 204.76\n",
            "----------------------------------------------------------------\n"
          ]
        }
      ]
    },
    {
      "cell_type": "code",
      "source": [],
      "metadata": {
        "id": "XqURfKhyB8WA"
      },
      "execution_count": null,
      "outputs": []
    }
  ]
}